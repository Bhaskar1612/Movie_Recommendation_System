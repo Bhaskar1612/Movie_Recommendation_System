{
 "cells": [
  {
   "cell_type": "code",
   "execution_count": 1,
   "metadata": {},
   "outputs": [
    {
     "name": "stdout",
     "output_type": "stream",
     "text": [
      "Movies:\n",
      "   movieId                               title  \\\n",
      "0        1                    Toy Story (1995)   \n",
      "1        2                      Jumanji (1995)   \n",
      "2        3             Grumpier Old Men (1995)   \n",
      "3        4            Waiting to Exhale (1995)   \n",
      "4        5  Father of the Bride Part II (1995)   \n",
      "\n",
      "                                        genres  \n",
      "0  Adventure|Animation|Children|Comedy|Fantasy  \n",
      "1                   Adventure|Children|Fantasy  \n",
      "2                               Comedy|Romance  \n",
      "3                         Comedy|Drama|Romance  \n",
      "4                                       Comedy  \n",
      "\n",
      "Ratings:\n",
      "   userId  movieId  rating   timestamp\n",
      "0       1        1     4.0  1225734739\n",
      "1       1      110     4.0  1225865086\n",
      "2       1      158     4.0  1225733503\n",
      "3       1      260     4.5  1225735204\n",
      "4       1      356     5.0  1225735119\n",
      "\n",
      "Tags:\n",
      "   userId  movieId            tag   timestamp\n",
      "0      10      260   good vs evil  1430666558\n",
      "1      10      260  Harrison Ford  1430666505\n",
      "2      10      260         sci-fi  1430666538\n",
      "3      14     1221      Al Pacino  1311600756\n",
      "4      14     1221          mafia  1311600746\n",
      "\n",
      "Genome Scores:\n",
      "   movieId  tagId  relevance\n",
      "0        1      1    0.03200\n",
      "1        1      2    0.02225\n",
      "2        1      3    0.07000\n",
      "3        1      4    0.05900\n",
      "4        1      5    0.12300\n",
      "\n",
      "Genome Tags:\n",
      "   tagId           tag\n",
      "0      1           007\n",
      "1      2  007 (series)\n",
      "2      3  18th century\n",
      "3      4         1920s\n",
      "4      5         1930s\n",
      "\n",
      "Links:\n",
      "   movieId  imdbId   tmdbId\n",
      "0        1  114709    862.0\n",
      "1        2  113497   8844.0\n",
      "2        3  113228  15602.0\n",
      "3        4  114885  31357.0\n",
      "4        5  113041  11862.0\n"
     ]
    }
   ],
   "source": [
    "import pandas as pd\n",
    "\n",
    "# Load datasets\n",
    "movies = pd.read_csv(\"ml-latest/movies.csv\")\n",
    "ratings = pd.read_csv(\"ml-latest/ratings.csv\")\n",
    "tags = pd.read_csv(\"ml-latest/tags.csv\")\n",
    "genome_scores = pd.read_csv(\"ml-latest/genome-scores.csv\")\n",
    "genome_tags = pd.read_csv(\"ml-latest/genome-tags.csv\")\n",
    "links = pd.read_csv(\"ml-latest/links.csv\")\n",
    "\n",
    "# Display first few rows of each dataset\n",
    "print(\"Movies:\")\n",
    "print(movies.head())\n",
    "\n",
    "print(\"\\nRatings:\")\n",
    "print(ratings.head())\n",
    "\n",
    "print(\"\\nTags:\")\n",
    "print(tags.head())\n",
    "\n",
    "print(\"\\nGenome Scores:\")\n",
    "print(genome_scores.head())\n",
    "\n",
    "print(\"\\nGenome Tags:\")\n",
    "print(genome_tags.head())\n",
    "\n",
    "print(\"\\nLinks:\")\n",
    "print(links.head())\n"
   ]
  },
  {
   "cell_type": "code",
   "execution_count": 2,
   "metadata": {},
   "outputs": [
    {
     "name": "stdout",
     "output_type": "stream",
     "text": [
      "33832162\n",
      "86537\n",
      "2328315\n",
      "18472128\n",
      "1128\n",
      "86537\n"
     ]
    }
   ],
   "source": [
    "print(len(ratings))\n",
    "print(len(movies))\n",
    "print(len(tags))\n",
    "print(len(genome_scores))\n",
    "print(len(genome_tags))\n",
    "print(len(links))"
   ]
  },
  {
   "cell_type": "code",
   "execution_count": 2,
   "metadata": {},
   "outputs": [
    {
     "name": "stdout",
     "output_type": "stream",
     "text": [
      "Missing values in Movies:\n",
      "movieId    0\n",
      "title      0\n",
      "genres     0\n",
      "dtype: int64\n",
      "\n",
      "Missing values in Ratings:\n",
      "userId       0\n",
      "movieId      0\n",
      "rating       0\n",
      "timestamp    0\n",
      "dtype: int64\n",
      "\n",
      "Missing values in Tags:\n",
      "userId        0\n",
      "movieId       0\n",
      "tag          17\n",
      "timestamp     0\n",
      "dtype: int64\n",
      "\n",
      "Missing values in Genome Scores:\n",
      "movieId      0\n",
      "tagId        0\n",
      "relevance    0\n",
      "dtype: int64\n",
      "\n",
      "Missing values in Genome Tags:\n",
      "tagId    0\n",
      "tag      0\n",
      "dtype: int64\n",
      "\n",
      "Missing values in Links:\n",
      "movieId      0\n",
      "imdbId       0\n",
      "tmdbId     126\n",
      "dtype: int64\n"
     ]
    }
   ],
   "source": [
    "# Check for missing values in each dataset\n",
    "print(\"Missing values in Movies:\")\n",
    "print(movies.isnull().sum())\n",
    "\n",
    "print(\"\\nMissing values in Ratings:\")\n",
    "print(ratings.isnull().sum())\n",
    "\n",
    "print(\"\\nMissing values in Tags:\")\n",
    "print(tags.isnull().sum())\n",
    "\n",
    "print(\"\\nMissing values in Genome Scores:\")\n",
    "print(genome_scores.isnull().sum())\n",
    "\n",
    "print(\"\\nMissing values in Genome Tags:\")\n",
    "print(genome_tags.isnull().sum())\n",
    "\n",
    "print(\"\\nMissing values in Links:\")\n",
    "print(links.isnull().sum())\n"
   ]
  },
  {
   "cell_type": "code",
   "execution_count": 3,
   "metadata": {},
   "outputs": [
    {
     "name": "stdout",
     "output_type": "stream",
     "text": [
      "Missing values in Tags after cleaning:\n",
      "userId       0\n",
      "movieId      0\n",
      "tag          0\n",
      "timestamp    0\n",
      "dtype: int64\n"
     ]
    }
   ],
   "source": [
    "# Drop rows with missing tags\n",
    "tags_cleaned = tags.dropna(subset=[\"tag\"])\n",
    "\n",
    "# Leave Links as-is or drop rows with missing tmdbId if needed\n",
    "# links_cleaned = links.dropna(subset=[\"tmdbId\"])\n",
    "\n",
    "# Confirm cleaning\n",
    "print(\"Missing values in Tags after cleaning:\")\n",
    "print(tags_cleaned.isnull().sum())\n"
   ]
  },
  {
   "cell_type": "code",
   "execution_count": 4,
   "metadata": {},
   "outputs": [
    {
     "name": "stdout",
     "output_type": "stream",
     "text": [
      "Sample consolidated dataset:\n",
      "   userId  movieId  rating  timestamp_x  \\\n",
      "0       1        1     4.0   1225734739   \n",
      "1       1      110     4.0   1225865086   \n",
      "2       1      158     4.0   1225733503   \n",
      "3       1      260     4.5   1225735204   \n",
      "4       1      356     5.0   1225735119   \n",
      "\n",
      "                                       title  \\\n",
      "0                           Toy Story (1995)   \n",
      "1                          Braveheart (1995)   \n",
      "2                              Casper (1995)   \n",
      "3  Star Wars: Episode IV - A New Hope (1977)   \n",
      "4                        Forrest Gump (1994)   \n",
      "\n",
      "                                        genres  tag  timestamp_y  \n",
      "0  Adventure|Animation|Children|Comedy|Fantasy  NaN          NaN  \n",
      "1                             Action|Drama|War  NaN          NaN  \n",
      "2                           Adventure|Children  NaN          NaN  \n",
      "3                      Action|Adventure|Sci-Fi  NaN          NaN  \n",
      "4                     Comedy|Drama|Romance|War  NaN          NaN  \n",
      "\n",
      "Missing values in consolidated dataset:\n",
      "userId                0\n",
      "movieId               0\n",
      "rating                0\n",
      "timestamp_x           0\n",
      "title                 0\n",
      "genres                0\n",
      "tag            33498810\n",
      "timestamp_y    33498810\n",
      "dtype: int64\n"
     ]
    }
   ],
   "source": [
    "# Merge Movies with Ratings\n",
    "movies_ratings = pd.merge(ratings, movies, on=\"movieId\", how=\"inner\")\n",
    "\n",
    "# Merge Movies+Ratings with Tags (optional)\n",
    "movies_ratings_tags = pd.merge(movies_ratings, tags_cleaned, on=[\"movieId\", \"userId\"], how=\"left\")\n",
    "\n",
    "# Display a sample of the consolidated dataset\n",
    "print(\"Sample consolidated dataset:\")\n",
    "print(movies_ratings_tags.head())\n",
    "\n",
    "# Check for missing values in the consolidated dataset\n",
    "print(\"\\nMissing values in consolidated dataset:\")\n",
    "print(movies_ratings_tags.isnull().sum())\n"
   ]
  },
  {
   "cell_type": "code",
   "execution_count": 7,
   "metadata": {},
   "outputs": [],
   "source": [
    "from sklearn.preprocessing import MultiLabelBinarizer\n",
    "\n",
    "# Split genres into lists\n",
    "movies_ratings_tags[\"genres_split\"] = movies_ratings_tags[\"genres\"].str.split('|')\n",
    "\n",
    "# One-hot encode genres\n",
    "mlb = MultiLabelBinarizer()\n",
    "genres_encoded = pd.DataFrame(\n",
    "    mlb.fit_transform(movies_ratings_tags[\"genres_split\"]),\n",
    "    columns=mlb.classes_,\n",
    "    index=movies_ratings_tags.index\n",
    ")\n",
    "\n",
    "# Add one-hot encoded genres back to the dataset\n",
    "movies_ratings_tags = pd.concat([movies_ratings_tags, genres_encoded], axis=1)\n",
    "\n",
    "# Drop unnecessary columns for modeling\n",
    "columns_to_drop = [\"title\", \"genres\", \"tag\", \"genres_split\"]\n",
    "movies_ratings_tags_cleaned = movies_ratings_tags.drop(columns=columns_to_drop)\n",
    "\n",
    "# Display a sample of the cleaned dataset\n",
    "print(\"Cleaned dataset ready for modeling:\")\n",
    "print(movies_ratings_tags_cleaned.head())\n"
   ]
  },
  {
   "cell_type": "code",
   "execution_count": 1,
   "metadata": {},
   "outputs": [
    {
     "ename": "NameError",
     "evalue": "name 'movies_ratings_tags_cleaned' is not defined",
     "output_type": "error",
     "traceback": [
      "\u001b[0;31m---------------------------------------------------------------------------\u001b[0m",
      "\u001b[0;31mNameError\u001b[0m                                 Traceback (most recent call last)",
      "Cell \u001b[0;32mIn[1], line 6\u001b[0m\n\u001b[1;32m      3\u001b[0m \u001b[38;5;28;01mfrom\u001b[39;00m \u001b[38;5;21;01msklearn\u001b[39;00m\u001b[38;5;21;01m.\u001b[39;00m\u001b[38;5;21;01mmodel_selection\u001b[39;00m \u001b[38;5;28;01mimport\u001b[39;00m train_test_split\n\u001b[1;32m      5\u001b[0m \u001b[38;5;66;03m# Create the user-movie interaction matrix\u001b[39;00m\n\u001b[0;32m----> 6\u001b[0m user_movie_matrix \u001b[38;5;241m=\u001b[39m \u001b[43mmovies_ratings_tags_cleaned\u001b[49m\u001b[38;5;241m.\u001b[39mpivot_table(\n\u001b[1;32m      7\u001b[0m     index\u001b[38;5;241m=\u001b[39m\u001b[38;5;124m\"\u001b[39m\u001b[38;5;124muserId\u001b[39m\u001b[38;5;124m\"\u001b[39m, columns\u001b[38;5;241m=\u001b[39m\u001b[38;5;124m\"\u001b[39m\u001b[38;5;124mmovieId\u001b[39m\u001b[38;5;124m\"\u001b[39m, values\u001b[38;5;241m=\u001b[39m\u001b[38;5;124m\"\u001b[39m\u001b[38;5;124mrating\u001b[39m\u001b[38;5;124m\"\u001b[39m\n\u001b[1;32m      8\u001b[0m )\n\u001b[1;32m     10\u001b[0m \u001b[38;5;66;03m# Fill missing values with 0 (sparse matrix representation)\u001b[39;00m\n\u001b[1;32m     11\u001b[0m user_movie_matrix \u001b[38;5;241m=\u001b[39m user_movie_matrix\u001b[38;5;241m.\u001b[39mfillna(\u001b[38;5;241m0\u001b[39m)\n",
      "\u001b[0;31mNameError\u001b[0m: name 'movies_ratings_tags_cleaned' is not defined"
     ]
    }
   ],
   "source": [
    "import numpy as np\n",
    "from scipy.sparse import csr_matrix\n",
    "from sklearn.model_selection import train_test_split\n",
    "\n",
    "# Create the user-movie interaction matrix\n",
    "user_movie_matrix = movies_ratings_tags_cleaned.pivot_table(\n",
    "    index=\"userId\", columns=\"movieId\", values=\"rating\"\n",
    ")\n",
    "\n",
    "# Fill missing values with 0 (sparse matrix representation)\n",
    "user_movie_matrix = user_movie_matrix.fillna(0)\n",
    "\n",
    "# Convert the matrix to a sparse format for efficient computation\n",
    "user_movie_sparse = csr_matrix(user_movie_matrix)\n",
    "\n",
    "# Display basic statistics\n",
    "num_users, num_movies = user_movie_matrix.shape\n",
    "non_zero_ratings = np.count_nonzero(user_movie_matrix.values)\n",
    "sparsity = 1 - (non_zero_ratings / (num_users * num_movies))\n",
    "\n",
    "print(f\"User-Movie Matrix Shape: {num_users} users, {num_movies} movies\")\n",
    "print(f\"Total Non-Zero Ratings: {non_zero_ratings}\")\n",
    "print(f\"Matrix Sparsity: {sparsity:.2%}\")\n",
    "\n",
    "# Split the dataset into training and testing sets\n",
    "train, test = train_test_split(\n",
    "    user_movie_matrix.values, test_size=0.2, random_state=42\n",
    ")\n",
    "\n",
    "print(\"Training and testing data prepared:\")\n",
    "print(f\"Training set shape: {train.shape}\")\n",
    "print(f\"Testing set shape: {test.shape}\")\n"
   ]
  },
  {
   "cell_type": "code",
   "execution_count": null,
   "metadata": {},
   "outputs": [],
   "source": []
  }
 ],
 "metadata": {
  "kernelspec": {
   "display_name": "Python 3",
   "language": "python",
   "name": "python3"
  },
  "language_info": {
   "codemirror_mode": {
    "name": "ipython",
    "version": 3
   },
   "file_extension": ".py",
   "mimetype": "text/x-python",
   "name": "python",
   "nbconvert_exporter": "python",
   "pygments_lexer": "ipython3",
   "version": "3.10.12"
  }
 },
 "nbformat": 4,
 "nbformat_minor": 2
}
